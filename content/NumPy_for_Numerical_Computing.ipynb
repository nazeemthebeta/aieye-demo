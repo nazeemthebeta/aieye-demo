{
  "nbformat": 4,
  "nbformat_minor": 0,
  "metadata": {
    "colab": {
      "provenance": []
    },
    "kernelspec": {
      "name": "python3",
      "display_name": "Python 3"
    },
    "language_info": {
      "name": "python"
    }
  },
  "cells": [
    {
      "cell_type": "markdown",
      "source": [
        "**Install NumPy (if not already installed)**"
      ],
      "metadata": {
        "id": "j7l09uGrvUPP"
      }
    },
    {
      "cell_type": "code",
      "source": [
        "!pip install numpy"
      ],
      "metadata": {
        "colab": {
          "base_uri": "https://localhost:8080/"
        },
        "id": "2uLRd7WPvmCg",
        "outputId": "9c7330d7-9cfa-4357-c9c0-e3373363a1f4"
      },
      "execution_count": null,
      "outputs": [
        {
          "output_type": "stream",
          "name": "stdout",
          "text": [
            "Requirement already satisfied: numpy in /usr/local/lib/python3.10/dist-packages (1.22.4)\n"
          ]
        }
      ]
    },
    {
      "cell_type": "markdown",
      "source": [
        "**Importing Library**"
      ],
      "metadata": {
        "id": "r61EX6huvqcC"
      }
    },
    {
      "cell_type": "code",
      "source": [
        "import numpy as np"
      ],
      "metadata": {
        "id": "mYRISPp4vuk5"
      },
      "execution_count": null,
      "outputs": []
    },
    {
      "cell_type": "markdown",
      "source": [
        "**Define the dataset as a NumPy array**"
      ],
      "metadata": {
        "id": "bZ4z4GXTv24T"
      }
    },
    {
      "cell_type": "code",
      "source": [
        "dataset = np.array([12, 18, 25, 30, 40])"
      ],
      "metadata": {
        "id": "Qof9ysN_v2UH"
      },
      "execution_count": null,
      "outputs": []
    },
    {
      "cell_type": "markdown",
      "source": [
        "**Calculate Mean using NumPy**\n",
        "\n"
      ],
      "metadata": {
        "id": "bd3h5KulwAzr"
      }
    },
    {
      "cell_type": "code",
      "source": [
        "mean = np.mean(dataset)"
      ],
      "metadata": {
        "id": "Lua10AHMwVF8"
      },
      "execution_count": null,
      "outputs": []
    },
    {
      "cell_type": "markdown",
      "source": [
        "**Calculate Mode using NumPy**"
      ],
      "metadata": {
        "id": "Biaz1w48wLna"
      }
    },
    {
      "cell_type": "code",
      "source": [
        "mode = np.argmax(np.bincount(dataset))"
      ],
      "metadata": {
        "id": "fneqvqZIwbKY"
      },
      "execution_count": null,
      "outputs": []
    },
    {
      "cell_type": "markdown",
      "source": [
        "We use the np.bincount() function from NumPy to count the occurrences of each unique value in the dataset. The bincount function returns an array, where each element represents the count of occurrences for the corresponding index value.\n",
        "\n",
        "After calculating the bincount, we use the np.argmax() function to find the index that corresponds to the maximum count. This index represents the mode value in the dataset."
      ],
      "metadata": {
        "id": "3nqvguGXxhJ8"
      }
    },
    {
      "cell_type": "markdown",
      "source": [
        "**Calculate Median using NumPy**"
      ],
      "metadata": {
        "id": "_H4erEzPwcr8"
      }
    },
    {
      "cell_type": "code",
      "execution_count": null,
      "metadata": {
        "id": "uSbpHLGavOu-"
      },
      "outputs": [],
      "source": [
        "median = np.median(dataset)\n"
      ]
    },
    {
      "cell_type": "markdown",
      "source": [
        "**Calculate Standard Deviation using NumPy**"
      ],
      "metadata": {
        "id": "6x__c_dJwhh7"
      }
    },
    {
      "cell_type": "code",
      "source": [
        "std_deviation = np.std(dataset)"
      ],
      "metadata": {
        "id": "GlizYgiuwjCG"
      },
      "execution_count": null,
      "outputs": []
    },
    {
      "cell_type": "markdown",
      "source": [
        "**Display the results**"
      ],
      "metadata": {
        "id": "zHiP3ObGwqvO"
      }
    },
    {
      "cell_type": "code",
      "source": [
        "print(\"Mean:\", mean)\n",
        "print(\"Mode:\", mode)\n",
        "print(\"Median:\", median)\n",
        "print(\"Standard Deviation:\", std_deviation)"
      ],
      "metadata": {
        "colab": {
          "base_uri": "https://localhost:8080/"
        },
        "id": "DmWJR5rXwq-v",
        "outputId": "8e7fe3f1-74f5-482a-b128-4f2f464d74a0"
      },
      "execution_count": null,
      "outputs": [
        {
          "output_type": "stream",
          "name": "stdout",
          "text": [
            "Mean: 25.0\n",
            "Mode: 12\n",
            "Median: 25.0\n",
            "Standard Deviation: 9.674709297958259\n"
          ]
        }
      ]
    }
  ]
}