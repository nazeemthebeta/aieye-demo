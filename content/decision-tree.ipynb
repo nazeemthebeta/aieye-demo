{
  "cells": [
    {
      "cell_type": "markdown",
      "id": "5ddfa1e0",
      "metadata": {},
      "source": [
        "## Decision Tree Visualization\n",
        "\n",
        "In this section, we will visualize a decision tree using the Iris dataset. The Iris dataset is a well-known dataset that contains measurements of iris flowers belonging to three different species.\n",
        "\n",
        "We will use the `scikit-learn` library to create a decision tree model and visualize it using the `graphviz` library."
      ]
    },
    {
      "cell_type": "code",
      "execution_count": null,
      "id": "09b99472",
      "metadata": {},
      "outputs": [],
      "source": [
        "# Importing the required libraries\n",
        "import matplotlib.pyplot as plt\n",
        "from sklearn.datasets import load_iris\n",
        "from sklearn.tree import DecisionTreeClassifier\n",
        "from sklearn.tree._export import export_text"
      ]
    },
    {
      "cell_type": "code",
      "execution_count": null,
      "id": "c3fafe3e",
      "metadata": {},
      "outputs": [],
      "source": [
        "# Load the Iris dataset\n",
        "data = load_iris()\n",
        "X, y = data.data, data.target"
      ]
    },
    {
      "cell_type": "code",
      "execution_count": null,
      "id": "3b8fdf1c",
      "metadata": {},
      "outputs": [],
      "source": [
        "# Build the decision tree model\n",
        "model = DecisionTreeClassifier()\n",
        "model.fit(X, y)"
      ]
    },
    {
      "cell_type": "markdown",
      "id": "64445450",
      "metadata": {},
      "source": [
        "### Visualize the Decision Tree\n",
        "\n",
        "We will now visualize the decision tree. The decision tree is a flowchart-like structure where each internal node represents a decision on an input feature, each branch represents the outcome of the decision, and each leaf node represents a class label.\n",
        "\n",
        "By visualizing the decision tree, we can gain insights into how the model makes decisions and classify different instances."
      ]
    },
    {
      "cell_type": "code",
      "execution_count": null,
      "id": "89c3e4b3",
      "metadata": {},
      "outputs": [],
      "source": [
        "# Visualize the decision tree\n",
        "plt.figure(figsize=(10, 8))\n",
        "tree_text = export_text(model, feature_names=data.feature_names, show_weights=True, spacing=5, decimals=1)\n",
        "plt.text(0.1, 0.1, tree_text, {'fontsize': 10}, fontfamily='monospace')\n",
        "plt.axis('off')\n",
        "plt.show()"
      ]
    }
  ],
  "metadata": {
    "kernelspec": {
      "display_name": "Python 3",
      "language": "python",
      "name": "python3"
    },
    "language_info": {
      "codemirror_mode": {
        "name": "ipython",
        "version": 3
      },
      "file_extension": ".py",
      "mimetype": "text/x-python",
      "name": "python",
      "nbconvert_exporter": "python",
      "pygments_lexer": "ipython3",
      "version": "3.7.11"
    }
  },
  "nbformat": 4,
  "nbformat_minor": 5
}
