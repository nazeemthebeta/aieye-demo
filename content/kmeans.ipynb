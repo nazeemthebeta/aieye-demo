{
  "nbformat": 4,
  "nbformat_minor": 0,
  "metadata": {
    "colab": {
      "name": "K-means Clustering Implementation.ipynb",
      "version": "0.3.2",
      "provenance": [],
      "collapsed_sections": [],
      "toc_visible": true,
      "include_colab_link": true
    },
    "kernelspec": {
      "name": "python3",
      "display_name": "Python 3"
    },
    "language_info": {
      "name": "python",
      "version": "3.7.11",
      "mimetype": "text/x-python",
      "codemirror_mode": {
        "name": "ipython",
        "version": 3
      },
      "pygments_lexer": "ipython3",
      "nbconvert_exporter": "python",
      "file_extension": ".py"
    }
  },
  "cells": [
    {
      "cell_type": "markdown",
      "metadata": {},
      "source": [
        "# Implementing K-means Clustering in Python\n",
        "\n",
        "K-means is a popular clustering algorithm used to partition data into 'K' clusters based on their similarities. It is an unsupervised learning algorithm, meaning it doesn't require labeled data for training. K-means is widely used for various applications like customer segmentation, image compression, and anomaly detection.\n",
        "\n",
        "In this notebook, we'll walk through the steps of implementing K-means in Python using the scikit-learn library."
      ]
    },
    {
      "cell_type": "markdown",
      "metadata": {},
      "source": [
        "## Step 1: Import Libraries\n",
        "\n",
        "Let's start by importing the required libraries: NumPy for numerical computations and scikit-learn's KMeans for implementing K-means."
      ]
    },
    {
      "cell_type": "code",
      "metadata": {},
      "source": [
        "# Importing libraries\n",
        "import numpy as np\n",
        "from sklearn.cluster import KMeans\n",
        "import matplotlib.pyplot as plt"
      ],
      "execution_count": 1,
      "outputs": []
    },
    {
      "cell_type": "markdown",
      "metadata": {},
      "source": [
        "## Step 2: Load Data\n",
        "\n",
        "In this example, we'll create a sample dataset to demonstrate the K-means algorithm. You can replace this with your own dataset later."
      ]
    },
    {
      "cell_type": "code",
      "metadata": {},
      "source": [
        "# Creating a sample dataset\n",
        "data = np.array([[2, 3],\n",
        "                 [5, 8],\n",
        "                 [1, 2],\n",
        "                 [8, 6],\n",
        "                 [6, 4],\n",
        "                 [1, 3]])"
      ],
      "execution_count": 2,
      "outputs": []
    },
    {
      "cell_type": "markdown",
      "metadata": {},
      "source": [
        "## Step 3: Feature Scaling (Optional)\n",
        "\n",
        "In some cases, it's essential to perform feature scaling to bring all features to a similar scale. However, for this example, we'll skip this step as the dataset is already relatively small."
      ]
    },
    {
      "cell_type": "markdown",
      "metadata": {},
      "source": [
        "## Step 4: Initialize K-means\n",
        "\n",
        "Now, let's create a K-means object with the desired number of clusters 'K'. In this example, we'll set 'K' to 2, but you can change it according to your dataset and requirements."
      ]
    },
    {
      "cell_type": "code",
      "metadata": {},
      "source": [
        "# Initialize K-means\n",
        "k = 2\n",
        "kmeans = KMeans(n_clusters=k)"
      ],
      "execution_count": 3,
      "outputs": []
    },
    {
      "cell_type": "markdown",
      "metadata": {},
      "source": [
        "## Step 5: Fit and Predict\n",
        "\n",
        "Next, we'll fit the K-means model to the data and predict the cluster labels for each data point."
      ]
    },
    {
      "cell_type": "code",
      "metadata": {},
      "source": [
        "# Fit and Predict\n",
        "kmeans.fit(data)\n",
        "cluster_labels = kmeans.predict(data)"
      ],
      "execution_count": 4,
      "outputs": []
    },
    {
      "cell_type": "markdown",
      "metadata": {},
      "source": [
        "## Step 6: Visualize Clusters\n",
        "\n",
        "Finally, let's use Matplotlib to visualize the clustered data points and the centroids of the clusters."
      ]
    },
    {
      "cell_type": "code",
      "metadata": {},
      "source": [
        "# Visualize Clusters\n",
        "plt.scatter(data[:, 0], data[:, 1], c=cluster_labels, cmap='rainbow')\n",
        "plt.scatter(kmeans.cluster_centers_[:, 0], kmeans.cluster_centers_[:, 1], marker='x', s=200, c='black')\n",
        "plt.xlabel('Feature 1')\n",
        "plt.ylabel('Feature 2')\n",
        "plt.title('K-means Clustering')\n",
        "plt.show()"
      ],
      "execution_count": 5,
      "outputs": []
    }
  ]
}
